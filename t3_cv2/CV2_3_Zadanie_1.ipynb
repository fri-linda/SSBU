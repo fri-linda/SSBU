{
 "cells": [
  {
   "cell_type": "markdown",
   "id": "6854f873-5d15-4d3c-a71b-8858b7de6d12",
   "metadata": {},
   "source": [
    "## Zadanie 1 (5b)\n",
    "\n",
    "V tomto zadaní budete pracovať s datasetom Heart Failure Clinical Records, ktorý obsahuje záznamy pacientov so zlyhaním srdca, zozbierané počas obdobia ich sledovania.\n",
    "\n",
    "Dataset je dostupný online: https://archive.ics.uci.edu/dataset/519/heart+failure+clinical+records\n",
    "\n",
    "Na stránke nájdete aj doplňujúce informácie o premenných, ktoré dataset obsahuje. (Odporúčam prečítať :) ) \n"
   ]
  },
  {
   "cell_type": "code",
   "execution_count": 1,
   "id": "d71ad566-64ab-4be4-ab6b-d5cc2807df4d",
   "metadata": {
    "vscode": {
     "languageId": "r"
    }
   },
   "outputs": [
    {
     "name": "stderr",
     "output_type": "stream",
     "text": [
      "── \u001b[1mAttaching core tidyverse packages\u001b[22m ──────────────────────── tidyverse 2.0.0 ──\n",
      "\u001b[32m✔\u001b[39m \u001b[34mdplyr    \u001b[39m 1.1.4     \u001b[32m✔\u001b[39m \u001b[34mreadr    \u001b[39m 2.1.5\n",
      "\u001b[32m✔\u001b[39m \u001b[34mforcats  \u001b[39m 1.0.0     \u001b[32m✔\u001b[39m \u001b[34mstringr  \u001b[39m 1.5.1\n",
      "\u001b[32m✔\u001b[39m \u001b[34mggplot2  \u001b[39m 3.5.0     \u001b[32m✔\u001b[39m \u001b[34mtibble   \u001b[39m 3.2.1\n",
      "\u001b[32m✔\u001b[39m \u001b[34mlubridate\u001b[39m 1.9.3     \u001b[32m✔\u001b[39m \u001b[34mtidyr    \u001b[39m 1.3.1\n",
      "\u001b[32m✔\u001b[39m \u001b[34mpurrr    \u001b[39m 1.0.2     \n",
      "── \u001b[1mConflicts\u001b[22m ────────────────────────────────────────── tidyverse_conflicts() ──\n",
      "\u001b[31m✖\u001b[39m \u001b[34mdplyr\u001b[39m::\u001b[32mfilter()\u001b[39m masks \u001b[34mstats\u001b[39m::filter()\n",
      "\u001b[31m✖\u001b[39m \u001b[34mdplyr\u001b[39m::\u001b[32mlag()\u001b[39m    masks \u001b[34mstats\u001b[39m::lag()\n",
      "\u001b[36mℹ\u001b[39m Use the conflicted package (\u001b[3m\u001b[34m<http://conflicted.r-lib.org/>\u001b[39m\u001b[23m) to force all conflicts to become errors\n",
      "corrplot 0.92 loaded\n",
      "\n"
     ]
    }
   ],
   "source": [
    "# link necessary libraries\n",
    "library(tidyverse)\n",
    "library(corrplot)\n",
    "\n",
    "# settings for plot visualisation\n",
    "options(repr.plot.height = 5, repr.plot.res = 200)"
   ]
  },
  {
   "cell_type": "markdown",
   "id": "a82f6441-a9ef-45fa-b529-02fa59f7798a",
   "metadata": {},
   "source": [
    "Načítanie datasetu - dataset viete funkciami dostupnými v R stiahnuť a rozbaliť aj z formátu ZIP"
   ]
  },
  {
   "cell_type": "code",
   "execution_count": 2,
   "id": "8db6cd70-f999-4b85-92ef-9156858e4be6",
   "metadata": {
    "vscode": {
     "languageId": "r"
    }
   },
   "outputs": [],
   "source": [
    "# URL of the dataset\n",
    "dataset_url <- \"https://archive.ics.uci.edu/static/public/519/heart+failure+clinical+records.zip\"\n",
    "\n",
    "# create temporary destination file path with .zip extension\n",
    "dest_file <- tempfile(fileext = \".zip\")\n",
    "\n",
    "# download the dataset, mode = write binary\n",
    "download.file(dataset_url, destfile = dest_file, mode = \"wb\")\n",
    "\n",
    "# unzip the file into chosen location (enter directory)\n",
    "unzip(dest_file, exdir = \"./data\")"
   ]
  },
  {
   "cell_type": "markdown",
   "id": "8af7058b-20cf-4ece-8c7f-e2f38c33e94f",
   "metadata": {},
   "source": [
    "### Úloha 1 (1b)"
   ]
  },
  {
   "cell_type": "markdown",
   "id": "8ceeaa27-3e3e-4b13-9251-2a375fc948d1",
   "metadata": {},
   "source": [
    "Načítajte dataset do premennej `data_hw`."
   ]
  },
  {
   "cell_type": "code",
   "execution_count": 4,
   "id": "2b998cf8-0fa4-4240-80ca-a6c4c483ca52",
   "metadata": {
    "scrolled": true,
    "vscode": {
     "languageId": "r"
    }
   },
   "outputs": [
    {
     "data": {
      "text/html": [
       "<style>\n",
       ".list-inline {list-style: none; margin:0; padding: 0}\n",
       ".list-inline>li {display: inline-block}\n",
       ".list-inline>li:not(:last-child)::after {content: \"\\00b7\"; padding: 0 .5ex}\n",
       "</style>\n",
       "<ol class=list-inline><li>'boxplot.png'</li><li>'env1.png'</li><li>'env2.png'</li><li>'final1.png'</li><li>'final2.png'</li><li>'final3.png'</li><li>'final4.png'</li><li>'final5.png'</li><li>'final6.png'</li><li>'final7.png'</li><li>'git_clone.png'</li><li>'git_fork1.png'</li><li>'git_fork2.png'</li><li>'git_fork3.png'</li><li>'git_fork4.png'</li><li>'heart_failure_clinical_records_dataset.csv'</li><li>'python1.png'</li><li>'python2.png'</li><li>'python3.png'</li><li>'python4.png'</li><li>'python5.png'</li><li>'python6.png'</li><li>'r_kernel1.png'</li><li>'r_kernel2.png'</li><li>'r_kernel3.png'</li><li>'r_kernel4.png'</li><li>'r1.png'</li><li>'r2.png'</li><li>'r3.png'</li><li>'r4.png'</li><li>'r5.png'</li><li>'r6.png'</li><li>'r7.png'</li><li>'r8.png'</li></ol>\n"
      ],
      "text/latex": [
       "\\begin{enumerate*}\n",
       "\\item 'boxplot.png'\n",
       "\\item 'env1.png'\n",
       "\\item 'env2.png'\n",
       "\\item 'final1.png'\n",
       "\\item 'final2.png'\n",
       "\\item 'final3.png'\n",
       "\\item 'final4.png'\n",
       "\\item 'final5.png'\n",
       "\\item 'final6.png'\n",
       "\\item 'final7.png'\n",
       "\\item 'git\\_clone.png'\n",
       "\\item 'git\\_fork1.png'\n",
       "\\item 'git\\_fork2.png'\n",
       "\\item 'git\\_fork3.png'\n",
       "\\item 'git\\_fork4.png'\n",
       "\\item 'heart\\_failure\\_clinical\\_records\\_dataset.csv'\n",
       "\\item 'python1.png'\n",
       "\\item 'python2.png'\n",
       "\\item 'python3.png'\n",
       "\\item 'python4.png'\n",
       "\\item 'python5.png'\n",
       "\\item 'python6.png'\n",
       "\\item 'r\\_kernel1.png'\n",
       "\\item 'r\\_kernel2.png'\n",
       "\\item 'r\\_kernel3.png'\n",
       "\\item 'r\\_kernel4.png'\n",
       "\\item 'r1.png'\n",
       "\\item 'r2.png'\n",
       "\\item 'r3.png'\n",
       "\\item 'r4.png'\n",
       "\\item 'r5.png'\n",
       "\\item 'r6.png'\n",
       "\\item 'r7.png'\n",
       "\\item 'r8.png'\n",
       "\\end{enumerate*}\n"
      ],
      "text/markdown": [
       "1. 'boxplot.png'\n",
       "2. 'env1.png'\n",
       "3. 'env2.png'\n",
       "4. 'final1.png'\n",
       "5. 'final2.png'\n",
       "6. 'final3.png'\n",
       "7. 'final4.png'\n",
       "8. 'final5.png'\n",
       "9. 'final6.png'\n",
       "10. 'final7.png'\n",
       "11. 'git_clone.png'\n",
       "12. 'git_fork1.png'\n",
       "13. 'git_fork2.png'\n",
       "14. 'git_fork3.png'\n",
       "15. 'git_fork4.png'\n",
       "16. 'heart_failure_clinical_records_dataset.csv'\n",
       "17. 'python1.png'\n",
       "18. 'python2.png'\n",
       "19. 'python3.png'\n",
       "20. 'python4.png'\n",
       "21. 'python5.png'\n",
       "22. 'python6.png'\n",
       "23. 'r_kernel1.png'\n",
       "24. 'r_kernel2.png'\n",
       "25. 'r_kernel3.png'\n",
       "26. 'r_kernel4.png'\n",
       "27. 'r1.png'\n",
       "28. 'r2.png'\n",
       "29. 'r3.png'\n",
       "30. 'r4.png'\n",
       "31. 'r5.png'\n",
       "32. 'r6.png'\n",
       "33. 'r7.png'\n",
       "34. 'r8.png'\n",
       "\n",
       "\n"
      ],
      "text/plain": [
       " [1] \"boxplot.png\"                               \n",
       " [2] \"env1.png\"                                  \n",
       " [3] \"env2.png\"                                  \n",
       " [4] \"final1.png\"                                \n",
       " [5] \"final2.png\"                                \n",
       " [6] \"final3.png\"                                \n",
       " [7] \"final4.png\"                                \n",
       " [8] \"final5.png\"                                \n",
       " [9] \"final6.png\"                                \n",
       "[10] \"final7.png\"                                \n",
       "[11] \"git_clone.png\"                             \n",
       "[12] \"git_fork1.png\"                             \n",
       "[13] \"git_fork2.png\"                             \n",
       "[14] \"git_fork3.png\"                             \n",
       "[15] \"git_fork4.png\"                             \n",
       "[16] \"heart_failure_clinical_records_dataset.csv\"\n",
       "[17] \"python1.png\"                               \n",
       "[18] \"python2.png\"                               \n",
       "[19] \"python3.png\"                               \n",
       "[20] \"python4.png\"                               \n",
       "[21] \"python5.png\"                               \n",
       "[22] \"python6.png\"                               \n",
       "[23] \"r_kernel1.png\"                             \n",
       "[24] \"r_kernel2.png\"                             \n",
       "[25] \"r_kernel3.png\"                             \n",
       "[26] \"r_kernel4.png\"                             \n",
       "[27] \"r1.png\"                                    \n",
       "[28] \"r2.png\"                                    \n",
       "[29] \"r3.png\"                                    \n",
       "[30] \"r4.png\"                                    \n",
       "[31] \"r5.png\"                                    \n",
       "[32] \"r6.png\"                                    \n",
       "[33] \"r7.png\"                                    \n",
       "[34] \"r8.png\"                                    "
      ]
     },
     "metadata": {},
     "output_type": "display_data"
    }
   ],
   "source": [
    "list.files(\"./data\")\n",
    "data_hw <- read.csv(\"./data/heart_failure_clinical_records_dataset.csv\")"
   ]
  },
  {
   "cell_type": "markdown",
   "id": "31431105-076e-45cb-b601-024fb88968ca",
   "metadata": {},
   "source": [
    "   **Obsahuje dataset chýbajúce hodnoty (NA) ?**"
   ]
  },
  {
   "cell_type": "code",
   "execution_count": 5,
   "id": "87207cc0-87e1-44fc-907a-00d090224c04",
   "metadata": {
    "vscode": {
     "languageId": "r"
    }
   },
   "outputs": [
    {
     "data": {
      "text/html": [
       "FALSE"
      ],
      "text/latex": [
       "FALSE"
      ],
      "text/markdown": [
       "FALSE"
      ],
      "text/plain": [
       "[1] FALSE"
      ]
     },
     "metadata": {},
     "output_type": "display_data"
    }
   ],
   "source": [
    "anyNA(data_hw)\n"
   ]
  },
  {
   "cell_type": "markdown",
   "id": "0758892b-bfa0-490f-8da2-958df68ad526",
   "metadata": {},
   "source": [
    "**Aký typ majú vybrané premenné v datasete ? (numerické/kategorické)** (Ak by ste si pri niektorých premenných neboli istí, zdôvodnite svoju odpoveď.)\n",
    "\n",
    "- age\n",
    "- anaemia \n",
    "- high_blood_pressure\n",
    "- serum_sodium\n",
    "- death_event"
   ]
  },
  {
   "cell_type": "code",
   "execution_count": 10,
   "id": "7edd44a4-9bce-472e-88cc-1bae5b5c8443",
   "metadata": {
    "vscode": {
     "languageId": "r"
    }
   },
   "outputs": [
    {
     "name": "stdout",
     "output_type": "stream",
     "text": [
      "'data.frame':\t299 obs. of  13 variables:\n",
      " $ age                     : num  75 55 65 50 65 90 75 60 65 80 ...\n",
      " $ anaemia                 : int  0 0 0 1 1 1 1 1 0 1 ...\n",
      " $ creatinine_phosphokinase: int  582 7861 146 111 160 47 246 315 157 123 ...\n",
      " $ diabetes                : int  0 0 0 0 1 0 0 1 0 0 ...\n",
      " $ ejection_fraction       : int  20 38 20 20 20 40 15 60 65 35 ...\n",
      " $ high_blood_pressure     : int  1 0 0 0 0 1 0 0 0 1 ...\n",
      " $ platelets               : num  265000 263358 162000 210000 327000 ...\n",
      " $ serum_creatinine        : num  1.9 1.1 1.3 1.9 2.7 2.1 1.2 1.1 1.5 9.4 ...\n",
      " $ serum_sodium            : int  130 136 129 137 116 132 137 131 138 133 ...\n",
      " $ sex                     : int  1 1 1 1 0 1 1 1 0 1 ...\n",
      " $ smoking                 : int  0 0 1 0 0 1 0 1 0 1 ...\n",
      " $ time                    : int  4 6 7 7 8 8 10 10 10 10 ...\n",
      " $ DEATH_EVENT             : int  1 1 1 1 1 1 1 1 1 1 ...\n"
     ]
    }
   ],
   "source": [
    "str(data_hw)\n",
    "\n",
    "# Age is numerical\n",
    "# Anamenia is categorical\n",
    "# Hihg blood pressure is categorical\n",
    "# Serum_so4 is numerical\n",
    "# Death event is categorical"
   ]
  },
  {
   "cell_type": "markdown",
   "id": "22304314-9212-490d-a44b-62c2412888a9",
   "metadata": {},
   "source": [
    "**Obsahuje dataset duplicitné záznamy?**"
   ]
  },
  {
   "cell_type": "code",
   "execution_count": 6,
   "id": "a9e6f530-ac31-4c07-b88c-e8125a423097",
   "metadata": {
    "vscode": {
     "languageId": "r"
    }
   },
   "outputs": [
    {
     "data": {
      "text/html": [
       "0"
      ],
      "text/latex": [
       "0"
      ],
      "text/markdown": [
       "0"
      ],
      "text/plain": [
       "[1] 0"
      ]
     },
     "metadata": {},
     "output_type": "display_data"
    }
   ],
   "source": [
    "anyDuplicated(data_hw)"
   ]
  },
  {
   "cell_type": "markdown",
   "id": "96a14512-f20f-499c-8398-d7cd3e6d1289",
   "metadata": {},
   "source": [
    "### Úloha 2 (1b)\n",
    "\n",
    "Skúmajte premennú 'sex' (pohlavie). Premenná je kódovaná hodnotami 0 a 1. ( 0 = žena, 1 = muž) "
   ]
  },
  {
   "cell_type": "code",
   "execution_count": 11,
   "id": "977467e5-d390-4ca4-93b1-33aa9cb576d6",
   "metadata": {
    "scrolled": true,
    "vscode": {
     "languageId": "r"
    }
   },
   "outputs": [
    {
     "data": {
      "text/html": [
       "<style>\n",
       ".list-inline {list-style: none; margin:0; padding: 0}\n",
       ".list-inline>li {display: inline-block}\n",
       ".list-inline>li:not(:last-child)::after {content: \"\\00b7\"; padding: 0 .5ex}\n",
       "</style>\n",
       "<ol class=list-inline><li>1</li><li>1</li><li>1</li><li>1</li><li>0</li><li>1</li><li>1</li><li>1</li><li>0</li><li>1</li><li>1</li><li>1</li><li>1</li><li>1</li><li>0</li><li>1</li><li>1</li><li>1</li><li>0</li><li>0</li><li>0</li><li>0</li><li>1</li><li>1</li><li>0</li><li>1</li><li>0</li><li>1</li><li>1</li><li>1</li><li>1</li><li>1</li><li>0</li><li>0</li><li>1</li><li>1</li><li>1</li><li>0</li><li>1</li><li>0</li><li>1</li><li>0</li><li>1</li><li>1</li><li>0</li><li>1</li><li>1</li><li>1</li><li>1</li><li>0</li><li>1</li><li>0</li><li>0</li><li>0</li><li>0</li><li>1</li><li>1</li><li>1</li><li>1</li><li>1</li><li>1</li><li>0</li><li>1</li><li>1</li><li>0</li><li>1</li><li>0</li><li>1</li><li>0</li><li>1</li><li>1</li><li>1</li><li>1</li><li>1</li><li>1</li><li>1</li><li>0</li><li>1</li><li>1</li><li>0</li><li>0</li><li>1</li><li>0</li><li>1</li><li>0</li><li>1</li><li>1</li><li>1</li><li>1</li><li>1</li><li>1</li><li>1</li><li>0</li><li>1</li><li>0</li><li>1</li><li>1</li><li>0</li><li>0</li><li>0</li><li>1</li><li>1</li><li>1</li><li>1</li><li>0</li><li>0</li><li>1</li><li>1</li><li>1</li><li>1</li><li>1</li><li>1</li><li>1</li><li>0</li><li>1</li><li>0</li><li>0</li><li>0</li><li>0</li><li>0</li><li>1</li><li>0</li><li>0</li><li>0</li><li>1</li><li>0</li><li>0</li><li>0</li><li>1</li><li>1</li><li>1</li><li>1</li><li>0</li><li>1</li><li>1</li><li>1</li><li>0</li><li>1</li><li>0</li><li>1</li><li>1</li><li>0</li><li>0</li><li>0</li><li>1</li><li>1</li><li>1</li><li>1</li><li>1</li><li>1</li><li>0</li><li>1</li><li>1</li><li>1</li><li>0</li><li>1</li><li>0</li><li>1</li><li>1</li><li>1</li><li>1</li><li>1</li><li>1</li><li>0</li><li>1</li><li>0</li><li>1</li><li>1</li><li>0</li><li>0</li><li>1</li><li>1</li><li>1</li><li>1</li><li>1</li><li>1</li><li>1</li><li>0</li><li>1</li><li>1</li><li>1</li><li>1</li><li>1</li><li>1</li><li>1</li><li>1</li><li>0</li><li>0</li><li>0</li><li>0</li><li>1</li><li>0</li><li>1</li><li>1</li><li>1</li><li>1</li><li>0</li><li>0</li><li>0</li><li>1</li><li>1</li><li>1</li><li>1</li><li>1</li><li>1</li><li>0</li><li>0</li><li>1</li><li>0</li><li>0</li><li>1</li><li>1</li><li>1</li><li>0</li><li>1</li><li>1</li><li>0</li><li>0</li><li>1</li><li>0</li><li>1</li><li>1</li><li>1</li><li>1</li><li>1</li><li>0</li><li>1</li><li>1</li><li>0</li><li>0</li><li>0</li><li>1</li><li>1</li><li>1</li><li>1</li><li>1</li><li>1</li><li>1</li><li>0</li><li>1</li><li>0</li><li>1</li><li>1</li><li>0</li><li>1</li><li>1</li><li>1</li><li>1</li><li>1</li><li>0</li><li>0</li><li>0</li><li>1</li><li>0</li><li>1</li><li>1</li><li>0</li><li>1</li><li>1</li><li>1</li><li>1</li><li>0</li><li>1</li><li>0</li><li>1</li><li>1</li><li>1</li><li>1</li><li>0</li><li>1</li><li>1</li><li>0</li><li>0</li><li>1</li><li>1</li><li>0</li><li>0</li><li>1</li><li>0</li><li>0</li><li>1</li><li>1</li><li>1</li><li>1</li><li>1</li><li>1</li><li>1</li><li>0</li><li>0</li><li>0</li><li>0</li><li>1</li><li>1</li><li>1</li><li>1</li><li>0</li><li>0</li><li>1</li><li>1</li></ol>\n"
      ],
      "text/latex": [
       "\\begin{enumerate*}\n",
       "\\item 1\n",
       "\\item 1\n",
       "\\item 1\n",
       "\\item 1\n",
       "\\item 0\n",
       "\\item 1\n",
       "\\item 1\n",
       "\\item 1\n",
       "\\item 0\n",
       "\\item 1\n",
       "\\item 1\n",
       "\\item 1\n",
       "\\item 1\n",
       "\\item 1\n",
       "\\item 0\n",
       "\\item 1\n",
       "\\item 1\n",
       "\\item 1\n",
       "\\item 0\n",
       "\\item 0\n",
       "\\item 0\n",
       "\\item 0\n",
       "\\item 1\n",
       "\\item 1\n",
       "\\item 0\n",
       "\\item 1\n",
       "\\item 0\n",
       "\\item 1\n",
       "\\item 1\n",
       "\\item 1\n",
       "\\item 1\n",
       "\\item 1\n",
       "\\item 0\n",
       "\\item 0\n",
       "\\item 1\n",
       "\\item 1\n",
       "\\item 1\n",
       "\\item 0\n",
       "\\item 1\n",
       "\\item 0\n",
       "\\item 1\n",
       "\\item 0\n",
       "\\item 1\n",
       "\\item 1\n",
       "\\item 0\n",
       "\\item 1\n",
       "\\item 1\n",
       "\\item 1\n",
       "\\item 1\n",
       "\\item 0\n",
       "\\item 1\n",
       "\\item 0\n",
       "\\item 0\n",
       "\\item 0\n",
       "\\item 0\n",
       "\\item 1\n",
       "\\item 1\n",
       "\\item 1\n",
       "\\item 1\n",
       "\\item 1\n",
       "\\item 1\n",
       "\\item 0\n",
       "\\item 1\n",
       "\\item 1\n",
       "\\item 0\n",
       "\\item 1\n",
       "\\item 0\n",
       "\\item 1\n",
       "\\item 0\n",
       "\\item 1\n",
       "\\item 1\n",
       "\\item 1\n",
       "\\item 1\n",
       "\\item 1\n",
       "\\item 1\n",
       "\\item 1\n",
       "\\item 0\n",
       "\\item 1\n",
       "\\item 1\n",
       "\\item 0\n",
       "\\item 0\n",
       "\\item 1\n",
       "\\item 0\n",
       "\\item 1\n",
       "\\item 0\n",
       "\\item 1\n",
       "\\item 1\n",
       "\\item 1\n",
       "\\item 1\n",
       "\\item 1\n",
       "\\item 1\n",
       "\\item 1\n",
       "\\item 0\n",
       "\\item 1\n",
       "\\item 0\n",
       "\\item 1\n",
       "\\item 1\n",
       "\\item 0\n",
       "\\item 0\n",
       "\\item 0\n",
       "\\item 1\n",
       "\\item 1\n",
       "\\item 1\n",
       "\\item 1\n",
       "\\item 0\n",
       "\\item 0\n",
       "\\item 1\n",
       "\\item 1\n",
       "\\item 1\n",
       "\\item 1\n",
       "\\item 1\n",
       "\\item 1\n",
       "\\item 1\n",
       "\\item 0\n",
       "\\item 1\n",
       "\\item 0\n",
       "\\item 0\n",
       "\\item 0\n",
       "\\item 0\n",
       "\\item 0\n",
       "\\item 1\n",
       "\\item 0\n",
       "\\item 0\n",
       "\\item 0\n",
       "\\item 1\n",
       "\\item 0\n",
       "\\item 0\n",
       "\\item 0\n",
       "\\item 1\n",
       "\\item 1\n",
       "\\item 1\n",
       "\\item 1\n",
       "\\item 0\n",
       "\\item 1\n",
       "\\item 1\n",
       "\\item 1\n",
       "\\item 0\n",
       "\\item 1\n",
       "\\item 0\n",
       "\\item 1\n",
       "\\item 1\n",
       "\\item 0\n",
       "\\item 0\n",
       "\\item 0\n",
       "\\item 1\n",
       "\\item 1\n",
       "\\item 1\n",
       "\\item 1\n",
       "\\item 1\n",
       "\\item 1\n",
       "\\item 0\n",
       "\\item 1\n",
       "\\item 1\n",
       "\\item 1\n",
       "\\item 0\n",
       "\\item 1\n",
       "\\item 0\n",
       "\\item 1\n",
       "\\item 1\n",
       "\\item 1\n",
       "\\item 1\n",
       "\\item 1\n",
       "\\item 1\n",
       "\\item 0\n",
       "\\item 1\n",
       "\\item 0\n",
       "\\item 1\n",
       "\\item 1\n",
       "\\item 0\n",
       "\\item 0\n",
       "\\item 1\n",
       "\\item 1\n",
       "\\item 1\n",
       "\\item 1\n",
       "\\item 1\n",
       "\\item 1\n",
       "\\item 1\n",
       "\\item 0\n",
       "\\item 1\n",
       "\\item 1\n",
       "\\item 1\n",
       "\\item 1\n",
       "\\item 1\n",
       "\\item 1\n",
       "\\item 1\n",
       "\\item 1\n",
       "\\item 0\n",
       "\\item 0\n",
       "\\item 0\n",
       "\\item 0\n",
       "\\item 1\n",
       "\\item 0\n",
       "\\item 1\n",
       "\\item 1\n",
       "\\item 1\n",
       "\\item 1\n",
       "\\item 0\n",
       "\\item 0\n",
       "\\item 0\n",
       "\\item 1\n",
       "\\item 1\n",
       "\\item 1\n",
       "\\item 1\n",
       "\\item 1\n",
       "\\item 1\n",
       "\\item 0\n",
       "\\item 0\n",
       "\\item 1\n",
       "\\item 0\n",
       "\\item 0\n",
       "\\item 1\n",
       "\\item 1\n",
       "\\item 1\n",
       "\\item 0\n",
       "\\item 1\n",
       "\\item 1\n",
       "\\item 0\n",
       "\\item 0\n",
       "\\item 1\n",
       "\\item 0\n",
       "\\item 1\n",
       "\\item 1\n",
       "\\item 1\n",
       "\\item 1\n",
       "\\item 1\n",
       "\\item 0\n",
       "\\item 1\n",
       "\\item 1\n",
       "\\item 0\n",
       "\\item 0\n",
       "\\item 0\n",
       "\\item 1\n",
       "\\item 1\n",
       "\\item 1\n",
       "\\item 1\n",
       "\\item 1\n",
       "\\item 1\n",
       "\\item 1\n",
       "\\item 0\n",
       "\\item 1\n",
       "\\item 0\n",
       "\\item 1\n",
       "\\item 1\n",
       "\\item 0\n",
       "\\item 1\n",
       "\\item 1\n",
       "\\item 1\n",
       "\\item 1\n",
       "\\item 1\n",
       "\\item 0\n",
       "\\item 0\n",
       "\\item 0\n",
       "\\item 1\n",
       "\\item 0\n",
       "\\item 1\n",
       "\\item 1\n",
       "\\item 0\n",
       "\\item 1\n",
       "\\item 1\n",
       "\\item 1\n",
       "\\item 1\n",
       "\\item 0\n",
       "\\item 1\n",
       "\\item 0\n",
       "\\item 1\n",
       "\\item 1\n",
       "\\item 1\n",
       "\\item 1\n",
       "\\item 0\n",
       "\\item 1\n",
       "\\item 1\n",
       "\\item 0\n",
       "\\item 0\n",
       "\\item 1\n",
       "\\item 1\n",
       "\\item 0\n",
       "\\item 0\n",
       "\\item 1\n",
       "\\item 0\n",
       "\\item 0\n",
       "\\item 1\n",
       "\\item 1\n",
       "\\item 1\n",
       "\\item 1\n",
       "\\item 1\n",
       "\\item 1\n",
       "\\item 1\n",
       "\\item 0\n",
       "\\item 0\n",
       "\\item 0\n",
       "\\item 0\n",
       "\\item 1\n",
       "\\item 1\n",
       "\\item 1\n",
       "\\item 1\n",
       "\\item 0\n",
       "\\item 0\n",
       "\\item 1\n",
       "\\item 1\n",
       "\\end{enumerate*}\n"
      ],
      "text/markdown": [
       "1. 1\n",
       "2. 1\n",
       "3. 1\n",
       "4. 1\n",
       "5. 0\n",
       "6. 1\n",
       "7. 1\n",
       "8. 1\n",
       "9. 0\n",
       "10. 1\n",
       "11. 1\n",
       "12. 1\n",
       "13. 1\n",
       "14. 1\n",
       "15. 0\n",
       "16. 1\n",
       "17. 1\n",
       "18. 1\n",
       "19. 0\n",
       "20. 0\n",
       "21. 0\n",
       "22. 0\n",
       "23. 1\n",
       "24. 1\n",
       "25. 0\n",
       "26. 1\n",
       "27. 0\n",
       "28. 1\n",
       "29. 1\n",
       "30. 1\n",
       "31. 1\n",
       "32. 1\n",
       "33. 0\n",
       "34. 0\n",
       "35. 1\n",
       "36. 1\n",
       "37. 1\n",
       "38. 0\n",
       "39. 1\n",
       "40. 0\n",
       "41. 1\n",
       "42. 0\n",
       "43. 1\n",
       "44. 1\n",
       "45. 0\n",
       "46. 1\n",
       "47. 1\n",
       "48. 1\n",
       "49. 1\n",
       "50. 0\n",
       "51. 1\n",
       "52. 0\n",
       "53. 0\n",
       "54. 0\n",
       "55. 0\n",
       "56. 1\n",
       "57. 1\n",
       "58. 1\n",
       "59. 1\n",
       "60. 1\n",
       "61. 1\n",
       "62. 0\n",
       "63. 1\n",
       "64. 1\n",
       "65. 0\n",
       "66. 1\n",
       "67. 0\n",
       "68. 1\n",
       "69. 0\n",
       "70. 1\n",
       "71. 1\n",
       "72. 1\n",
       "73. 1\n",
       "74. 1\n",
       "75. 1\n",
       "76. 1\n",
       "77. 0\n",
       "78. 1\n",
       "79. 1\n",
       "80. 0\n",
       "81. 0\n",
       "82. 1\n",
       "83. 0\n",
       "84. 1\n",
       "85. 0\n",
       "86. 1\n",
       "87. 1\n",
       "88. 1\n",
       "89. 1\n",
       "90. 1\n",
       "91. 1\n",
       "92. 1\n",
       "93. 0\n",
       "94. 1\n",
       "95. 0\n",
       "96. 1\n",
       "97. 1\n",
       "98. 0\n",
       "99. 0\n",
       "100. 0\n",
       "101. 1\n",
       "102. 1\n",
       "103. 1\n",
       "104. 1\n",
       "105. 0\n",
       "106. 0\n",
       "107. 1\n",
       "108. 1\n",
       "109. 1\n",
       "110. 1\n",
       "111. 1\n",
       "112. 1\n",
       "113. 1\n",
       "114. 0\n",
       "115. 1\n",
       "116. 0\n",
       "117. 0\n",
       "118. 0\n",
       "119. 0\n",
       "120. 0\n",
       "121. 1\n",
       "122. 0\n",
       "123. 0\n",
       "124. 0\n",
       "125. 1\n",
       "126. 0\n",
       "127. 0\n",
       "128. 0\n",
       "129. 1\n",
       "130. 1\n",
       "131. 1\n",
       "132. 1\n",
       "133. 0\n",
       "134. 1\n",
       "135. 1\n",
       "136. 1\n",
       "137. 0\n",
       "138. 1\n",
       "139. 0\n",
       "140. 1\n",
       "141. 1\n",
       "142. 0\n",
       "143. 0\n",
       "144. 0\n",
       "145. 1\n",
       "146. 1\n",
       "147. 1\n",
       "148. 1\n",
       "149. 1\n",
       "150. 1\n",
       "151. 0\n",
       "152. 1\n",
       "153. 1\n",
       "154. 1\n",
       "155. 0\n",
       "156. 1\n",
       "157. 0\n",
       "158. 1\n",
       "159. 1\n",
       "160. 1\n",
       "161. 1\n",
       "162. 1\n",
       "163. 1\n",
       "164. 0\n",
       "165. 1\n",
       "166. 0\n",
       "167. 1\n",
       "168. 1\n",
       "169. 0\n",
       "170. 0\n",
       "171. 1\n",
       "172. 1\n",
       "173. 1\n",
       "174. 1\n",
       "175. 1\n",
       "176. 1\n",
       "177. 1\n",
       "178. 0\n",
       "179. 1\n",
       "180. 1\n",
       "181. 1\n",
       "182. 1\n",
       "183. 1\n",
       "184. 1\n",
       "185. 1\n",
       "186. 1\n",
       "187. 0\n",
       "188. 0\n",
       "189. 0\n",
       "190. 0\n",
       "191. 1\n",
       "192. 0\n",
       "193. 1\n",
       "194. 1\n",
       "195. 1\n",
       "196. 1\n",
       "197. 0\n",
       "198. 0\n",
       "199. 0\n",
       "200. 1\n",
       "201. 1\n",
       "202. 1\n",
       "203. 1\n",
       "204. 1\n",
       "205. 1\n",
       "206. 0\n",
       "207. 0\n",
       "208. 1\n",
       "209. 0\n",
       "210. 0\n",
       "211. 1\n",
       "212. 1\n",
       "213. 1\n",
       "214. 0\n",
       "215. 1\n",
       "216. 1\n",
       "217. 0\n",
       "218. 0\n",
       "219. 1\n",
       "220. 0\n",
       "221. 1\n",
       "222. 1\n",
       "223. 1\n",
       "224. 1\n",
       "225. 1\n",
       "226. 0\n",
       "227. 1\n",
       "228. 1\n",
       "229. 0\n",
       "230. 0\n",
       "231. 0\n",
       "232. 1\n",
       "233. 1\n",
       "234. 1\n",
       "235. 1\n",
       "236. 1\n",
       "237. 1\n",
       "238. 1\n",
       "239. 0\n",
       "240. 1\n",
       "241. 0\n",
       "242. 1\n",
       "243. 1\n",
       "244. 0\n",
       "245. 1\n",
       "246. 1\n",
       "247. 1\n",
       "248. 1\n",
       "249. 1\n",
       "250. 0\n",
       "251. 0\n",
       "252. 0\n",
       "253. 1\n",
       "254. 0\n",
       "255. 1\n",
       "256. 1\n",
       "257. 0\n",
       "258. 1\n",
       "259. 1\n",
       "260. 1\n",
       "261. 1\n",
       "262. 0\n",
       "263. 1\n",
       "264. 0\n",
       "265. 1\n",
       "266. 1\n",
       "267. 1\n",
       "268. 1\n",
       "269. 0\n",
       "270. 1\n",
       "271. 1\n",
       "272. 0\n",
       "273. 0\n",
       "274. 1\n",
       "275. 1\n",
       "276. 0\n",
       "277. 0\n",
       "278. 1\n",
       "279. 0\n",
       "280. 0\n",
       "281. 1\n",
       "282. 1\n",
       "283. 1\n",
       "284. 1\n",
       "285. 1\n",
       "286. 1\n",
       "287. 1\n",
       "288. 0\n",
       "289. 0\n",
       "290. 0\n",
       "291. 0\n",
       "292. 1\n",
       "293. 1\n",
       "294. 1\n",
       "295. 1\n",
       "296. 0\n",
       "297. 0\n",
       "298. 1\n",
       "299. 1\n",
       "\n",
       "\n"
      ],
      "text/plain": [
       "  [1] 1 1 1 1 0 1 1 1 0 1 1 1 1 1 0 1 1 1 0 0 0 0 1 1 0 1 0 1 1 1 1 1 0 0 1 1 1\n",
       " [38] 0 1 0 1 0 1 1 0 1 1 1 1 0 1 0 0 0 0 1 1 1 1 1 1 0 1 1 0 1 0 1 0 1 1 1 1 1\n",
       " [75] 1 1 0 1 1 0 0 1 0 1 0 1 1 1 1 1 1 1 0 1 0 1 1 0 0 0 1 1 1 1 0 0 1 1 1 1 1\n",
       "[112] 1 1 0 1 0 0 0 0 0 1 0 0 0 1 0 0 0 1 1 1 1 0 1 1 1 0 1 0 1 1 0 0 0 1 1 1 1\n",
       "[149] 1 1 0 1 1 1 0 1 0 1 1 1 1 1 1 0 1 0 1 1 0 0 1 1 1 1 1 1 1 0 1 1 1 1 1 1 1\n",
       "[186] 1 0 0 0 0 1 0 1 1 1 1 0 0 0 1 1 1 1 1 1 0 0 1 0 0 1 1 1 0 1 1 0 0 1 0 1 1\n",
       "[223] 1 1 1 0 1 1 0 0 0 1 1 1 1 1 1 1 0 1 0 1 1 0 1 1 1 1 1 0 0 0 1 0 1 1 0 1 1\n",
       "[260] 1 1 0 1 0 1 1 1 1 0 1 1 0 0 1 1 0 0 1 0 0 1 1 1 1 1 1 1 0 0 0 0 1 1 1 1 0\n",
       "[297] 0 1 1"
      ]
     },
     "metadata": {},
     "output_type": "display_data"
    },
    {
     "name": "stdout",
     "output_type": "stream",
     "text": [
      " int [1:299] 1 1 1 1 0 1 1 1 0 1 ...\n"
     ]
    }
   ],
   "source": [
    "data_hw$sex\n",
    "str(data_hw$sex)"
   ]
  },
  {
   "cell_type": "markdown",
   "id": "d7789c28-0857-4a4b-b89e-6bfc9569191f",
   "metadata": {},
   "source": [
    "**Koľko záznamov mužov a žien obsahuje dataset?**"
   ]
  },
  {
   "cell_type": "code",
   "execution_count": 12,
   "id": "b52c7e12-3a4f-4b97-a98c-e6d2e42080a2",
   "metadata": {
    "vscode": {
     "languageId": "r"
    }
   },
   "outputs": [
    {
     "data": {
      "text/plain": [
       "\n",
       "  0   1 \n",
       "105 194 "
      ]
     },
     "metadata": {},
     "output_type": "display_data"
    }
   ],
   "source": [
    "table(data_hw$sex)"
   ]
  },
  {
   "cell_type": "markdown",
   "id": "4f9085d2-e941-422b-b7f8-5708c0cdce73",
   "metadata": {},
   "source": [
    "**Koľko mužov a žien je nefajčiarov ? (0 = nefajčiar, 1 = fajčiar)**"
   ]
  },
  {
   "cell_type": "code",
   "execution_count": 9,
   "id": "6516093e-72d8-46ab-9fb6-6aaceead23a0",
   "metadata": {
    "vscode": {
     "languageId": "r"
    }
   },
   "outputs": [
    {
     "data": {
      "text/plain": [
       "   \n",
       "      0   1\n",
       "  0 101   4\n",
       "  1 102  92"
      ]
     },
     "metadata": {},
     "output_type": "display_data"
    }
   ],
   "source": [
    "table(data_hw$sex, data_hw$smoking)\n",
    "# 0 is woman, 1 is man\n",
    "# 0 is non-smoker, 1 is smoker\n",
    "# woman, non-smoker = 101"
   ]
  },
  {
   "cell_type": "markdown",
   "id": "ba365496-6912-408d-bcfc-a7f2993c148e",
   "metadata": {},
   "source": [
    "### Úloha 3 (1b)\n",
    "\n",
    "Popíšte premennú 'age' (vek)."
   ]
  },
  {
   "cell_type": "code",
   "execution_count": 13,
   "id": "12399271-25b2-4871-ab16-dcd9e0fd6f46",
   "metadata": {
    "vscode": {
     "languageId": "r"
    }
   },
   "outputs": [
    {
     "data": {
      "text/plain": [
       "   Min. 1st Qu.  Median    Mean 3rd Qu.    Max. \n",
       "  40.00   51.00   60.00   60.83   70.00   95.00 "
      ]
     },
     "metadata": {},
     "output_type": "display_data"
    }
   ],
   "source": [
    "summary(data_hw$age)"
   ]
  },
  {
   "cell_type": "markdown",
   "id": "fb2d9df9-7a57-414c-a13f-095acc8bb550",
   "metadata": {},
   "source": [
    "**Aký je minimálny, maximálny a priemerný vek pacientov v datasete?**"
   ]
  },
  {
   "cell_type": "code",
   "execution_count": 14,
   "id": "08599e0e-d183-4b31-a224-8f1288bcc12b",
   "metadata": {
    "vscode": {
     "languageId": "r"
    }
   },
   "outputs": [
    {
     "data": {
      "text/html": [
       "60.8338929765886"
      ],
      "text/latex": [
       "60.8338929765886"
      ],
      "text/markdown": [
       "60.8338929765886"
      ],
      "text/plain": [
       "[1] 60.83389"
      ]
     },
     "metadata": {},
     "output_type": "display_data"
    },
    {
     "data": {
      "text/html": [
       "40"
      ],
      "text/latex": [
       "40"
      ],
      "text/markdown": [
       "40"
      ],
      "text/plain": [
       "[1] 40"
      ]
     },
     "metadata": {},
     "output_type": "display_data"
    },
    {
     "data": {
      "text/html": [
       "95"
      ],
      "text/latex": [
       "95"
      ],
      "text/markdown": [
       "95"
      ],
      "text/plain": [
       "[1] 95"
      ]
     },
     "metadata": {},
     "output_type": "display_data"
    }
   ],
   "source": [
    "mean(data_hw$age)\n",
    "min(data_hw$age)\n",
    "max(data_hw$age)"
   ]
  },
  {
   "cell_type": "markdown",
   "id": "65cf63d5-1b33-4d5e-9ce3-c99b01c2f588",
   "metadata": {},
   "source": [
    "**Z akého veku je v datasete najviac záznamov?**"
   ]
  },
  {
   "cell_type": "code",
   "execution_count": 15,
   "id": "33ffe607-c8ad-4368-a0ad-5de841c5851a",
   "metadata": {
    "vscode": {
     "languageId": "r"
    }
   },
   "outputs": [
    {
     "data": {
      "text/html": [
       "'60'"
      ],
      "text/latex": [
       "'60'"
      ],
      "text/markdown": [
       "'60'"
      ],
      "text/plain": [
       "[1] \"60\""
      ]
     },
     "metadata": {},
     "output_type": "display_data"
    }
   ],
   "source": [
    "age_counts <= table(data_hw$age)\n",
    "max_age <= names(age_counts)[which.max(age_counts)]\n",
    "max_age\n",
    "# 60 is the most common age\n"
   ]
  },
  {
   "cell_type": "markdown",
   "id": "6b93d9ab-556a-446f-a880-a5ab7743a96a",
   "metadata": {},
   "source": [
    "### Úloha 4 (1b)\n",
    "\n",
    "Pridajte do datasetu novú premennú s názvom `risk`, ktorá bude predstavovať riziko úmrtia pacienta po zlyhaní srdca. Táto premenná bude kategorická a bude obsahovať hodnoty 'Low' a 'High'. \n",
    "Premennú vytvorte na základe if-else rozhodovania podľa premenných 'age' a 'serum_creatinine':\n",
    "\n",
    "- Ak je vek pacienta väčší ako 50 a zároveň level kreatinínu v krvnom sére ('serum_creatinine') je väčší ako 1.2 mg/dL, tak hodnota premennej 'Risk' je 'High'.\n",
    "- V opačnom prípade je hodnota 'Low'\n",
    "\n",
    "- pre vytvorenie premennej použite funkciu ifelse - https://www.rdocumentation.org/packages/base/versions/3.6.2/topics/ifelse"
   ]
  },
  {
   "cell_type": "code",
   "execution_count": 16,
   "id": "6a9dadd2-509e-4fbf-81c4-99045ba4fa76",
   "metadata": {
    "vscode": {
     "languageId": "r"
    }
   },
   "outputs": [],
   "source": [
    "data_hw$risk <- ifelse(data_hw$age > 50 & data_hw$serum_creatinine > 1.2, \"High\", \"Low\")\n"
   ]
  },
  {
   "cell_type": "markdown",
   "id": "bd48b605-4050-4860-8449-f9a4eb35e8fd",
   "metadata": {},
   "source": [
    "Vizualizujte vysoké riziko úmrtia pre jednotlivé vekové skupiny histogramom:\n",
    "\n",
    "- počet stĺpcov (atribút 'breaks') môže mať predvolenú hodnotu, nemusíte ho špecifikovať\n",
    "\n",
    "- funkcia hist - https://www.rdocumentation.org/packages/graphics/versions/3.6.2/topics/hist\n",
    "\n",
    "(hint: použite funkciu filter na záznamy, kde 'risk' == 'High', a v histograme ako dáta vložte hodnoty z premennej 'age')"
   ]
  },
  {
   "cell_type": "code",
   "execution_count": 21,
   "id": "13e02304-e867-43d4-a51e-92e2c9ae4dfe",
   "metadata": {
    "vscode": {
     "languageId": "r"
    }
   },
   "outputs": [
    {
     "data": {
      "text/plain": [
       "$x\n",
       "[1] \"Age\"\n",
       "\n",
       "$y\n",
       "[1] \"Count\"\n",
       "\n",
       "$title\n",
       "[1] \"High Risk of Death by Age\"\n",
       "\n",
       "attr(,\"class\")\n",
       "[1] \"labels\""
      ]
     },
     "metadata": {},
     "output_type": "display_data"
    },
    {
     "data": {
      "image/png": "[encoded data removed]",
      "text/plain": [
       "Plot with title \"High Risk of Death by Age\""
      ]
     },
     "metadata": {
      "image/png": {
       "height": 500,
       "width": 700
      }
     },
     "output_type": "display_data"
    }
   ],
   "source": [
    "\n",
    "\n",
    "# Create a histogram of age for high risk data\n",
    "hist(high_risk_data$age, xlab = \"Age\", ylab = \"Count\", main = \"High Risk of Death by Age\")\n",
    "  labs(x = \"Age\", y = \"Count\", title = \"High Risk of Death by Age\")\n"
   ]
  },
  {
   "cell_type": "markdown",
   "id": "beb9312b-dd82-46bb-89b0-ccb6dd2b8106",
   "metadata": {},
   "source": [
    "**V akom veku je riziko zlyhania srdca najväčšie?**"
   ]
  },
  {
   "cell_type": "raw",
   "id": "f7fac42f-41e9-4243-ae91-8bbb5b3d8f27",
   "metadata": {
    "vscode": {
     "languageId": "raw"
    }
   },
   "source": [
    "# TODO\n",
    "#55 to 60"
   ]
  },
  {
   "cell_type": "markdown",
   "id": "9ba90f86-6bdb-4f53-9c45-7284ff510535",
   "metadata": {},
   "source": [
    "**Koľko záznamov (približne) je v datasete v tejto vekovej kategórii?**"
   ]
  },
  {
   "cell_type": "raw",
   "id": "c71eec00-b410-42fa-89f5-788a2671be60",
   "metadata": {
    "vscode": {
     "languageId": "raw"
    }
   },
   "source": [
    "# TODO\n",
    "# 22"
   ]
  },
  {
   "cell_type": "markdown",
   "id": "f5c0ddad-7e6c-4726-b729-3cfb349ee0b8",
   "metadata": {},
   "source": [
    "### Úloha 5 (1b)\n",
    "\n",
    "Analyzujte koreláciu medzi všetkými atribútmi tohto datasetu (napr. vytvorením correlation plot)\n",
    "\n",
    "- korelácia sa dá analyzovať iba na numerických premenných, preto musíte dátový typ premennej zmeniť na kategorický a ten uložiť vo formáte 'integer' alebo 'numeric'.\n"
   ]
  },
  {
   "cell_type": "code",
   "execution_count": 22,
   "id": "c8322950-1964-43ac-a3f6-d4bedb3802ea",
   "metadata": {
    "scrolled": true,
    "vscode": {
     "languageId": "r"
    }
   },
   "outputs": [
    {
     "name": "stderr",
     "output_type": "stream",
     "text": [
      "Warning message:\n",
      "\"\u001b[1m\u001b[22mThere was 1 warning in `mutate()`.\n",
      "\u001b[1m\u001b[22m\u001b[36mℹ\u001b[39m In argument: `risk = .Primitive(\"as.double\")(risk)`.\n",
      "Caused by warning:\n",
      "\u001b[33m!\u001b[39m NAs introduced by coercion\"\n"
     ]
    },
    {
     "data": {
      "image/png": "[encoded data removed]",
      "text/plain": [
       "Plot with title \"\""
      ]
     },
     "metadata": {
      "image/png": {
       "height": 500,
       "width": 700
      }
     },
     "output_type": "display_data"
    }
   ],
   "source": [
    "# Convert variables to numeric\n",
    "data_hw <- data_hw %>%\n",
    "  mutate_if(is.character, as.numeric)\n",
    "\n",
    "# Create correlation plot\n",
    "corrplot(cor(data_hw), method = \"color\")\n"
   ]
  },
  {
   "cell_type": "markdown",
   "id": "7964b789-3e0c-4478-a270-028d98af3994",
   "metadata": {},
   "source": [
    "**Ktoré atribúty majú medzi sebou najväčšiu zápornú koreláciu?** (uveďte prvé dve dvojice)"
   ]
  },
  {
   "cell_type": "code",
   "execution_count": 26,
   "id": "5f1781b1-32f1-442e-91bf-82aefbae6dde",
   "metadata": {
    "vscode": {
     "languageId": "r"
    }
   },
   "outputs": [
    {
     "data": {
      "text/html": [
       "<table class=\"dataframe\">\n",
       "<caption>A matrix: 14 × 14 of type dbl</caption>\n",
       "<thead>\n",
       "\t<tr><th></th><th scope=col>age</th><th scope=col>anaemia</th><th scope=col>creatinine_phosphokinase</th><th scope=col>diabetes</th><th scope=col>ejection_fraction</th><th scope=col>high_blood_pressure</th><th scope=col>platelets</th><th scope=col>serum_creatinine</th><th scope=col>serum_sodium</th><th scope=col>sex</th><th scope=col>smoking</th><th scope=col>time</th><th scope=col>DEATH_EVENT</th><th scope=col>risk</th></tr>\n",
       "</thead>\n",
       "<tbody>\n",
       "\t<tr><th scope=row>age</th><td> 1.00000000</td><td> 0.08800644</td><td>-0.081583900</td><td>-0.101012385</td><td> 0.06009836</td><td> 0.093288685</td><td>-0.05235437</td><td> 0.159187133</td><td>-0.045965841</td><td> 0.065429524</td><td> 0.018667868</td><td>-0.224068420</td><td> 0.253728543</td><td>NA</td></tr>\n",
       "\t<tr><th scope=row>anaemia</th><td> 0.08800644</td><td> 1.00000000</td><td>-0.190741030</td><td>-0.012729046</td><td> 0.03155697</td><td> 0.038182003</td><td>-0.04378555</td><td> 0.052173604</td><td> 0.041881610</td><td>-0.094768961</td><td>-0.107289838</td><td>-0.141413982</td><td> 0.066270098</td><td>NA</td></tr>\n",
       "\t<tr><th scope=row>creatinine_phosphokinase</th><td>-0.08158390</td><td>-0.19074103</td><td> 1.000000000</td><td>-0.009638514</td><td>-0.04407955</td><td>-0.070589980</td><td> 0.02446339</td><td>-0.016408480</td><td> 0.059550156</td><td> 0.079790629</td><td> 0.002421235</td><td>-0.009345653</td><td> 0.062728160</td><td>NA</td></tr>\n",
       "\t<tr><th scope=row>diabetes</th><td>-0.10101239</td><td>-0.01272905</td><td>-0.009638514</td><td> 1.000000000</td><td>-0.00485031</td><td>-0.012732382</td><td> 0.09219283</td><td>-0.046975315</td><td>-0.089550619</td><td>-0.157729504</td><td>-0.147173413</td><td> 0.033725509</td><td>-0.001942883</td><td>NA</td></tr>\n",
       "\t<tr><th scope=row>ejection_fraction</th><td> 0.06009836</td><td> 0.03155697</td><td>-0.044079554</td><td>-0.004850310</td><td> 1.00000000</td><td> 0.024444731</td><td> 0.07217747</td><td>-0.011302475</td><td> 0.175902282</td><td>-0.148385965</td><td>-0.067314567</td><td> 0.041729235</td><td>-0.268603312</td><td>NA</td></tr>\n",
       "\t<tr><th scope=row>high_blood_pressure</th><td> 0.09328868</td><td> 0.03818200</td><td>-0.070589980</td><td>-0.012732382</td><td> 0.02444473</td><td> 1.000000000</td><td> 0.04996348</td><td>-0.004934525</td><td> 0.037109470</td><td>-0.104614629</td><td>-0.055711369</td><td>-0.196439479</td><td> 0.079351058</td><td>NA</td></tr>\n",
       "\t<tr><th scope=row>platelets</th><td>-0.05235437</td><td>-0.04378555</td><td> 0.024463389</td><td> 0.092192828</td><td> 0.07217747</td><td> 0.049963481</td><td> 1.00000000</td><td>-0.041198077</td><td> 0.062124619</td><td>-0.125120483</td><td> 0.028234448</td><td> 0.010513909</td><td>-0.049138868</td><td>NA</td></tr>\n",
       "\t<tr><th scope=row>serum_creatinine</th><td> 0.15918713</td><td> 0.05217360</td><td>-0.016408480</td><td>-0.046975315</td><td>-0.01130247</td><td>-0.004934525</td><td>-0.04119808</td><td> 1.000000000</td><td>-0.189095210</td><td> 0.006969778</td><td>-0.027414135</td><td>-0.149315418</td><td> 0.294277561</td><td>NA</td></tr>\n",
       "\t<tr><th scope=row>serum_sodium</th><td>-0.04596584</td><td> 0.04188161</td><td> 0.059550156</td><td>-0.089550619</td><td> 0.17590228</td><td> 0.037109470</td><td> 0.06212462</td><td>-0.189095210</td><td> 1.000000000</td><td>-0.027566123</td><td> 0.004813195</td><td> 0.087640000</td><td>-0.195203596</td><td>NA</td></tr>\n",
       "\t<tr><th scope=row>sex</th><td> 0.06542952</td><td>-0.09476896</td><td> 0.079790629</td><td>-0.157729504</td><td>-0.14838597</td><td>-0.104614629</td><td>-0.12512048</td><td> 0.006969778</td><td>-0.027566123</td><td> 1.000000000</td><td> 0.445891712</td><td>-0.015608220</td><td>-0.004316376</td><td>NA</td></tr>\n",
       "\t<tr><th scope=row>smoking</th><td> 0.01866787</td><td>-0.10728984</td><td> 0.002421235</td><td>-0.147173413</td><td>-0.06731457</td><td>-0.055711369</td><td> 0.02823445</td><td>-0.027414135</td><td> 0.004813195</td><td> 0.445891712</td><td> 1.000000000</td><td>-0.022838942</td><td>-0.012623153</td><td>NA</td></tr>\n",
       "\t<tr><th scope=row>time</th><td>-0.22406842</td><td>-0.14141398</td><td>-0.009345653</td><td> 0.033725509</td><td> 0.04172924</td><td>-0.196439479</td><td> 0.01051391</td><td>-0.149315418</td><td> 0.087640000</td><td>-0.015608220</td><td>-0.022838942</td><td> 1.000000000</td><td>-0.526963779</td><td>NA</td></tr>\n",
       "\t<tr><th scope=row>DEATH_EVENT</th><td> 0.25372854</td><td> 0.06627010</td><td> 0.062728160</td><td>-0.001942883</td><td>-0.26860331</td><td> 0.079351058</td><td>-0.04913887</td><td> 0.294277561</td><td>-0.195203596</td><td>-0.004316376</td><td>-0.012623153</td><td>-0.526963779</td><td> 1.000000000</td><td>NA</td></tr>\n",
       "\t<tr><th scope=row>risk</th><td>         NA</td><td>         NA</td><td>          NA</td><td>          NA</td><td>         NA</td><td>          NA</td><td>         NA</td><td>          NA</td><td>          NA</td><td>          NA</td><td>          NA</td><td>          NA</td><td>          NA</td><td> 1</td></tr>\n",
       "</tbody>\n",
       "</table>\n"
      ],
      "text/latex": [
       "A matrix: 14 × 14 of type dbl\n",
       "\\begin{tabular}{r|llllllllllllll}\n",
       "  & age & anaemia & creatinine\\_phosphokinase & diabetes & ejection\\_fraction & high\\_blood\\_pressure & platelets & serum\\_creatinine & serum\\_sodium & sex & smoking & time & DEATH\\_EVENT & risk\\\\\n",
       "\\hline\n",
       "\tage &  1.00000000 &  0.08800644 & -0.081583900 & -0.101012385 &  0.06009836 &  0.093288685 & -0.05235437 &  0.159187133 & -0.045965841 &  0.065429524 &  0.018667868 & -0.224068420 &  0.253728543 & NA\\\\\n",
       "\tanaemia &  0.08800644 &  1.00000000 & -0.190741030 & -0.012729046 &  0.03155697 &  0.038182003 & -0.04378555 &  0.052173604 &  0.041881610 & -0.094768961 & -0.107289838 & -0.141413982 &  0.066270098 & NA\\\\\n",
       "\tcreatinine\\_phosphokinase & -0.08158390 & -0.19074103 &  1.000000000 & -0.009638514 & -0.04407955 & -0.070589980 &  0.02446339 & -0.016408480 &  0.059550156 &  0.079790629 &  0.002421235 & -0.009345653 &  0.062728160 & NA\\\\\n",
       "\tdiabetes & -0.10101239 & -0.01272905 & -0.009638514 &  1.000000000 & -0.00485031 & -0.012732382 &  0.09219283 & -0.046975315 & -0.089550619 & -0.157729504 & -0.147173413 &  0.033725509 & -0.001942883 & NA\\\\\n",
       "\tejection\\_fraction &  0.06009836 &  0.03155697 & -0.044079554 & -0.004850310 &  1.00000000 &  0.024444731 &  0.07217747 & -0.011302475 &  0.175902282 & -0.148385965 & -0.067314567 &  0.041729235 & -0.268603312 & NA\\\\\n",
       "\thigh\\_blood\\_pressure &  0.09328868 &  0.03818200 & -0.070589980 & -0.012732382 &  0.02444473 &  1.000000000 &  0.04996348 & -0.004934525 &  0.037109470 & -0.104614629 & -0.055711369 & -0.196439479 &  0.079351058 & NA\\\\\n",
       "\tplatelets & -0.05235437 & -0.04378555 &  0.024463389 &  0.092192828 &  0.07217747 &  0.049963481 &  1.00000000 & -0.041198077 &  0.062124619 & -0.125120483 &  0.028234448 &  0.010513909 & -0.049138868 & NA\\\\\n",
       "\tserum\\_creatinine &  0.15918713 &  0.05217360 & -0.016408480 & -0.046975315 & -0.01130247 & -0.004934525 & -0.04119808 &  1.000000000 & -0.189095210 &  0.006969778 & -0.027414135 & -0.149315418 &  0.294277561 & NA\\\\\n",
       "\tserum\\_sodium & -0.04596584 &  0.04188161 &  0.059550156 & -0.089550619 &  0.17590228 &  0.037109470 &  0.06212462 & -0.189095210 &  1.000000000 & -0.027566123 &  0.004813195 &  0.087640000 & -0.195203596 & NA\\\\\n",
       "\tsex &  0.06542952 & -0.09476896 &  0.079790629 & -0.157729504 & -0.14838597 & -0.104614629 & -0.12512048 &  0.006969778 & -0.027566123 &  1.000000000 &  0.445891712 & -0.015608220 & -0.004316376 & NA\\\\\n",
       "\tsmoking &  0.01866787 & -0.10728984 &  0.002421235 & -0.147173413 & -0.06731457 & -0.055711369 &  0.02823445 & -0.027414135 &  0.004813195 &  0.445891712 &  1.000000000 & -0.022838942 & -0.012623153 & NA\\\\\n",
       "\ttime & -0.22406842 & -0.14141398 & -0.009345653 &  0.033725509 &  0.04172924 & -0.196439479 &  0.01051391 & -0.149315418 &  0.087640000 & -0.015608220 & -0.022838942 &  1.000000000 & -0.526963779 & NA\\\\\n",
       "\tDEATH\\_EVENT &  0.25372854 &  0.06627010 &  0.062728160 & -0.001942883 & -0.26860331 &  0.079351058 & -0.04913887 &  0.294277561 & -0.195203596 & -0.004316376 & -0.012623153 & -0.526963779 &  1.000000000 & NA\\\\\n",
       "\trisk &          NA &          NA &           NA &           NA &          NA &           NA &          NA &           NA &           NA &           NA &           NA &           NA &           NA &  1\\\\\n",
       "\\end{tabular}\n"
      ],
      "text/markdown": [
       "\n",
       "A matrix: 14 × 14 of type dbl\n",
       "\n",
       "| <!--/--> | age | anaemia | creatinine_phosphokinase | diabetes | ejection_fraction | high_blood_pressure | platelets | serum_creatinine | serum_sodium | sex | smoking | time | DEATH_EVENT | risk |\n",
       "|---|---|---|---|---|---|---|---|---|---|---|---|---|---|---|\n",
       "| age |  1.00000000 |  0.08800644 | -0.081583900 | -0.101012385 |  0.06009836 |  0.093288685 | -0.05235437 |  0.159187133 | -0.045965841 |  0.065429524 |  0.018667868 | -0.224068420 |  0.253728543 | NA |\n",
       "| anaemia |  0.08800644 |  1.00000000 | -0.190741030 | -0.012729046 |  0.03155697 |  0.038182003 | -0.04378555 |  0.052173604 |  0.041881610 | -0.094768961 | -0.107289838 | -0.141413982 |  0.066270098 | NA |\n",
       "| creatinine_phosphokinase | -0.08158390 | -0.19074103 |  1.000000000 | -0.009638514 | -0.04407955 | -0.070589980 |  0.02446339 | -0.016408480 |  0.059550156 |  0.079790629 |  0.002421235 | -0.009345653 |  0.062728160 | NA |\n",
       "| diabetes | -0.10101239 | -0.01272905 | -0.009638514 |  1.000000000 | -0.00485031 | -0.012732382 |  0.09219283 | -0.046975315 | -0.089550619 | -0.157729504 | -0.147173413 |  0.033725509 | -0.001942883 | NA |\n",
       "| ejection_fraction |  0.06009836 |  0.03155697 | -0.044079554 | -0.004850310 |  1.00000000 |  0.024444731 |  0.07217747 | -0.011302475 |  0.175902282 | -0.148385965 | -0.067314567 |  0.041729235 | -0.268603312 | NA |\n",
       "| high_blood_pressure |  0.09328868 |  0.03818200 | -0.070589980 | -0.012732382 |  0.02444473 |  1.000000000 |  0.04996348 | -0.004934525 |  0.037109470 | -0.104614629 | -0.055711369 | -0.196439479 |  0.079351058 | NA |\n",
       "| platelets | -0.05235437 | -0.04378555 |  0.024463389 |  0.092192828 |  0.07217747 |  0.049963481 |  1.00000000 | -0.041198077 |  0.062124619 | -0.125120483 |  0.028234448 |  0.010513909 | -0.049138868 | NA |\n",
       "| serum_creatinine |  0.15918713 |  0.05217360 | -0.016408480 | -0.046975315 | -0.01130247 | -0.004934525 | -0.04119808 |  1.000000000 | -0.189095210 |  0.006969778 | -0.027414135 | -0.149315418 |  0.294277561 | NA |\n",
       "| serum_sodium | -0.04596584 |  0.04188161 |  0.059550156 | -0.089550619 |  0.17590228 |  0.037109470 |  0.06212462 | -0.189095210 |  1.000000000 | -0.027566123 |  0.004813195 |  0.087640000 | -0.195203596 | NA |\n",
       "| sex |  0.06542952 | -0.09476896 |  0.079790629 | -0.157729504 | -0.14838597 | -0.104614629 | -0.12512048 |  0.006969778 | -0.027566123 |  1.000000000 |  0.445891712 | -0.015608220 | -0.004316376 | NA |\n",
       "| smoking |  0.01866787 | -0.10728984 |  0.002421235 | -0.147173413 | -0.06731457 | -0.055711369 |  0.02823445 | -0.027414135 |  0.004813195 |  0.445891712 |  1.000000000 | -0.022838942 | -0.012623153 | NA |\n",
       "| time | -0.22406842 | -0.14141398 | -0.009345653 |  0.033725509 |  0.04172924 | -0.196439479 |  0.01051391 | -0.149315418 |  0.087640000 | -0.015608220 | -0.022838942 |  1.000000000 | -0.526963779 | NA |\n",
       "| DEATH_EVENT |  0.25372854 |  0.06627010 |  0.062728160 | -0.001942883 | -0.26860331 |  0.079351058 | -0.04913887 |  0.294277561 | -0.195203596 | -0.004316376 | -0.012623153 | -0.526963779 |  1.000000000 | NA |\n",
       "| risk |          NA |          NA |           NA |           NA |          NA |           NA |          NA |           NA |           NA |           NA |           NA |           NA |           NA |  1 |\n",
       "\n"
      ],
      "text/plain": [
       "                         age         anaemia     creatinine_phosphokinase\n",
       "age                       1.00000000  0.08800644 -0.081583900            \n",
       "anaemia                   0.08800644  1.00000000 -0.190741030            \n",
       "creatinine_phosphokinase -0.08158390 -0.19074103  1.000000000            \n",
       "diabetes                 -0.10101239 -0.01272905 -0.009638514            \n",
       "ejection_fraction         0.06009836  0.03155697 -0.044079554            \n",
       "high_blood_pressure       0.09328868  0.03818200 -0.070589980            \n",
       "platelets                -0.05235437 -0.04378555  0.024463389            \n",
       "serum_creatinine          0.15918713  0.05217360 -0.016408480            \n",
       "serum_sodium             -0.04596584  0.04188161  0.059550156            \n",
       "sex                       0.06542952 -0.09476896  0.079790629            \n",
       "smoking                   0.01866787 -0.10728984  0.002421235            \n",
       "time                     -0.22406842 -0.14141398 -0.009345653            \n",
       "DEATH_EVENT               0.25372854  0.06627010  0.062728160            \n",
       "risk                              NA          NA           NA            \n",
       "                         diabetes     ejection_fraction high_blood_pressure\n",
       "age                      -0.101012385  0.06009836        0.093288685       \n",
       "anaemia                  -0.012729046  0.03155697        0.038182003       \n",
       "creatinine_phosphokinase -0.009638514 -0.04407955       -0.070589980       \n",
       "diabetes                  1.000000000 -0.00485031       -0.012732382       \n",
       "ejection_fraction        -0.004850310  1.00000000        0.024444731       \n",
       "high_blood_pressure      -0.012732382  0.02444473        1.000000000       \n",
       "platelets                 0.092192828  0.07217747        0.049963481       \n",
       "serum_creatinine         -0.046975315 -0.01130247       -0.004934525       \n",
       "serum_sodium             -0.089550619  0.17590228        0.037109470       \n",
       "sex                      -0.157729504 -0.14838597       -0.104614629       \n",
       "smoking                  -0.147173413 -0.06731457       -0.055711369       \n",
       "time                      0.033725509  0.04172924       -0.196439479       \n",
       "DEATH_EVENT              -0.001942883 -0.26860331        0.079351058       \n",
       "risk                               NA          NA                 NA       \n",
       "                         platelets   serum_creatinine serum_sodium sex         \n",
       "age                      -0.05235437  0.159187133     -0.045965841  0.065429524\n",
       "anaemia                  -0.04378555  0.052173604      0.041881610 -0.094768961\n",
       "creatinine_phosphokinase  0.02446339 -0.016408480      0.059550156  0.079790629\n",
       "diabetes                  0.09219283 -0.046975315     -0.089550619 -0.157729504\n",
       "ejection_fraction         0.07217747 -0.011302475      0.175902282 -0.148385965\n",
       "high_blood_pressure       0.04996348 -0.004934525      0.037109470 -0.104614629\n",
       "platelets                 1.00000000 -0.041198077      0.062124619 -0.125120483\n",
       "serum_creatinine         -0.04119808  1.000000000     -0.189095210  0.006969778\n",
       "serum_sodium              0.06212462 -0.189095210      1.000000000 -0.027566123\n",
       "sex                      -0.12512048  0.006969778     -0.027566123  1.000000000\n",
       "smoking                   0.02823445 -0.027414135      0.004813195  0.445891712\n",
       "time                      0.01051391 -0.149315418      0.087640000 -0.015608220\n",
       "DEATH_EVENT              -0.04913887  0.294277561     -0.195203596 -0.004316376\n",
       "risk                              NA           NA               NA           NA\n",
       "                         smoking      time         DEATH_EVENT  risk\n",
       "age                       0.018667868 -0.224068420  0.253728543 NA  \n",
       "anaemia                  -0.107289838 -0.141413982  0.066270098 NA  \n",
       "creatinine_phosphokinase  0.002421235 -0.009345653  0.062728160 NA  \n",
       "diabetes                 -0.147173413  0.033725509 -0.001942883 NA  \n",
       "ejection_fraction        -0.067314567  0.041729235 -0.268603312 NA  \n",
       "high_blood_pressure      -0.055711369 -0.196439479  0.079351058 NA  \n",
       "platelets                 0.028234448  0.010513909 -0.049138868 NA  \n",
       "serum_creatinine         -0.027414135 -0.149315418  0.294277561 NA  \n",
       "serum_sodium              0.004813195  0.087640000 -0.195203596 NA  \n",
       "sex                       0.445891712 -0.015608220 -0.004316376 NA  \n",
       "smoking                   1.000000000 -0.022838942 -0.012623153 NA  \n",
       "time                     -0.022838942  1.000000000 -0.526963779 NA  \n",
       "DEATH_EVENT              -0.012623153 -0.526963779  1.000000000 NA  \n",
       "risk                               NA           NA           NA  1  "
      ]
     },
     "metadata": {},
     "output_type": "display_data"
    },
    {
     "data": {
      "text/html": [
       "<style>\n",
       ".list-inline {list-style: none; margin:0; padding: 0}\n",
       ".list-inline>li {display: inline-block}\n",
       ".list-inline>li:not(:last-child)::after {content: \"\\00b7\"; padding: 0 .5ex}\n",
       "</style>\n",
       "<ol class=list-inline><li>-0.0815838997790923</li><li>-0.10101238518197</li><li>-0.052354366630127</li><li>-0.04596584083956</li><li>-0.224068419972035</li><li>&lt;NA&gt;</li><li>-0.190741030200663</li><li>-0.0127290458094634</li><li>-0.0437855497324057</li><li>-0.0947689609331495</li><li>-0.107289838237167</li><li>-0.141413982272465</li><li>&lt;NA&gt;</li><li>-0.0815838997790923</li><li>-0.190741030200663</li><li>-0.00963851367516801</li><li>-0.0440795544567115</li><li>-0.0705899799632517</li><li>-0.0164084795462174</li><li>-0.00934565314298216</li><li>&lt;NA&gt;</li><li>-0.10101238518197</li><li>-0.0127290458094634</li><li>-0.00963851367516801</li><li>-0.00485030966758097</li><li>-0.012732381675486</li><li>-0.0469753153792132</li><li>-0.0895506193058872</li><li>-0.15772950433811</li><li>-0.147173413323414</li><li>-0.00194288334420349</li><li>&lt;NA&gt;</li><li>-0.0440795544567115</li><li>-0.00485030966758097</li><li>-0.0113024749954173</li><li>-0.148385965326359</li><li>-0.0673145673313379</li><li>-0.268603312394062</li><li>&lt;NA&gt;</li><li>-0.0705899799632517</li><li>-0.012732381675486</li><li>-0.0049345251139908</li><li>-0.104614629356897</li><li>-0.0557113687775628</li><li>-0.196439478931263</li><li>&lt;NA&gt;</li><li>-0.052354366630127</li><li>-0.0437855497324057</li><li>-0.0411980771125638</li><li>-0.125120482809183</li><li>-0.0491388679803743</li><li>&lt;NA&gt;</li><li>-0.0164084795462174</li><li>-0.0469753153792132</li><li>-0.0113024749954173</li><li>-0.0049345251139908</li><li>-0.0411980771125638</li><li>-0.189095210091174</li><li>-0.0274141354470692</li><li>-0.149315417567929</li><li>&lt;NA&gt;</li><li>-0.04596584083956</li><li>-0.0895506193058872</li><li>-0.189095210091174</li><li>-0.0275661227282363</li><li>-0.195203596416401</li><li>&lt;NA&gt;</li><li>-0.0947689609331495</li><li>-0.15772950433811</li><li>-0.148385965326359</li><li>-0.104614629356897</li><li>-0.125120482809183</li><li>-0.0275661227282363</li><li>-0.0156082203814092</li><li>-0.00431637631970306</li><li>&lt;NA&gt;</li><li>-0.107289838237167</li><li>-0.147173413323414</li><li>-0.0673145673313379</li><li>-0.0557113687775628</li><li>-0.0274141354470692</li><li>-0.022838942447847</li><li>-0.0126231527093596</li><li>&lt;NA&gt;</li><li>-0.224068419972035</li><li>-0.141413982272465</li><li>-0.00934565314298216</li><li>-0.196439478931263</li><li>-0.149315417567929</li><li>-0.0156082203814092</li><li>-0.022838942447847</li><li>-0.526963779277577</li><li>&lt;NA&gt;</li><li>-0.00194288334420349</li><li>-0.268603312394062</li><li>-0.0491388679803743</li><li>-0.195203596416401</li><li>-0.00431637631970306</li><li>-0.0126231527093596</li><li>-0.526963779277577</li><li>&lt;NA&gt;</li><li>&lt;NA&gt;</li><li>&lt;NA&gt;</li><li>&lt;NA&gt;</li><li>&lt;NA&gt;</li><li>&lt;NA&gt;</li><li>&lt;NA&gt;</li><li>&lt;NA&gt;</li><li>&lt;NA&gt;</li><li>&lt;NA&gt;</li><li>&lt;NA&gt;</li><li>&lt;NA&gt;</li><li>&lt;NA&gt;</li><li>&lt;NA&gt;</li></ol>\n"
      ],
      "text/latex": [
       "\\begin{enumerate*}\n",
       "\\item -0.0815838997790923\n",
       "\\item -0.10101238518197\n",
       "\\item -0.052354366630127\n",
       "\\item -0.04596584083956\n",
       "\\item -0.224068419972035\n",
       "\\item <NA>\n",
       "\\item -0.190741030200663\n",
       "\\item -0.0127290458094634\n",
       "\\item -0.0437855497324057\n",
       "\\item -0.0947689609331495\n",
       "\\item -0.107289838237167\n",
       "\\item -0.141413982272465\n",
       "\\item <NA>\n",
       "\\item -0.0815838997790923\n",
       "\\item -0.190741030200663\n",
       "\\item -0.00963851367516801\n",
       "\\item -0.0440795544567115\n",
       "\\item -0.0705899799632517\n",
       "\\item -0.0164084795462174\n",
       "\\item -0.00934565314298216\n",
       "\\item <NA>\n",
       "\\item -0.10101238518197\n",
       "\\item -0.0127290458094634\n",
       "\\item -0.00963851367516801\n",
       "\\item -0.00485030966758097\n",
       "\\item -0.012732381675486\n",
       "\\item -0.0469753153792132\n",
       "\\item -0.0895506193058872\n",
       "\\item -0.15772950433811\n",
       "\\item -0.147173413323414\n",
       "\\item -0.00194288334420349\n",
       "\\item <NA>\n",
       "\\item -0.0440795544567115\n",
       "\\item -0.00485030966758097\n",
       "\\item -0.0113024749954173\n",
       "\\item -0.148385965326359\n",
       "\\item -0.0673145673313379\n",
       "\\item -0.268603312394062\n",
       "\\item <NA>\n",
       "\\item -0.0705899799632517\n",
       "\\item -0.012732381675486\n",
       "\\item -0.0049345251139908\n",
       "\\item -0.104614629356897\n",
       "\\item -0.0557113687775628\n",
       "\\item -0.196439478931263\n",
       "\\item <NA>\n",
       "\\item -0.052354366630127\n",
       "\\item -0.0437855497324057\n",
       "\\item -0.0411980771125638\n",
       "\\item -0.125120482809183\n",
       "\\item -0.0491388679803743\n",
       "\\item <NA>\n",
       "\\item -0.0164084795462174\n",
       "\\item -0.0469753153792132\n",
       "\\item -0.0113024749954173\n",
       "\\item -0.0049345251139908\n",
       "\\item -0.0411980771125638\n",
       "\\item -0.189095210091174\n",
       "\\item -0.0274141354470692\n",
       "\\item -0.149315417567929\n",
       "\\item <NA>\n",
       "\\item -0.04596584083956\n",
       "\\item -0.0895506193058872\n",
       "\\item -0.189095210091174\n",
       "\\item -0.0275661227282363\n",
       "\\item -0.195203596416401\n",
       "\\item <NA>\n",
       "\\item -0.0947689609331495\n",
       "\\item -0.15772950433811\n",
       "\\item -0.148385965326359\n",
       "\\item -0.104614629356897\n",
       "\\item -0.125120482809183\n",
       "\\item -0.0275661227282363\n",
       "\\item -0.0156082203814092\n",
       "\\item -0.00431637631970306\n",
       "\\item <NA>\n",
       "\\item -0.107289838237167\n",
       "\\item -0.147173413323414\n",
       "\\item -0.0673145673313379\n",
       "\\item -0.0557113687775628\n",
       "\\item -0.0274141354470692\n",
       "\\item -0.022838942447847\n",
       "\\item -0.0126231527093596\n",
       "\\item <NA>\n",
       "\\item -0.224068419972035\n",
       "\\item -0.141413982272465\n",
       "\\item -0.00934565314298216\n",
       "\\item -0.196439478931263\n",
       "\\item -0.149315417567929\n",
       "\\item -0.0156082203814092\n",
       "\\item -0.022838942447847\n",
       "\\item -0.526963779277577\n",
       "\\item <NA>\n",
       "\\item -0.00194288334420349\n",
       "\\item -0.268603312394062\n",
       "\\item -0.0491388679803743\n",
       "\\item -0.195203596416401\n",
       "\\item -0.00431637631970306\n",
       "\\item -0.0126231527093596\n",
       "\\item -0.526963779277577\n",
       "\\item <NA>\n",
       "\\item <NA>\n",
       "\\item <NA>\n",
       "\\item <NA>\n",
       "\\item <NA>\n",
       "\\item <NA>\n",
       "\\item <NA>\n",
       "\\item <NA>\n",
       "\\item <NA>\n",
       "\\item <NA>\n",
       "\\item <NA>\n",
       "\\item <NA>\n",
       "\\item <NA>\n",
       "\\item <NA>\n",
       "\\end{enumerate*}\n"
      ],
      "text/markdown": [
       "1. -0.0815838997790923\n",
       "2. -0.10101238518197\n",
       "3. -0.052354366630127\n",
       "4. -0.04596584083956\n",
       "5. -0.224068419972035\n",
       "6. &lt;NA&gt;\n",
       "7. -0.190741030200663\n",
       "8. -0.0127290458094634\n",
       "9. -0.0437855497324057\n",
       "10. -0.0947689609331495\n",
       "11. -0.107289838237167\n",
       "12. -0.141413982272465\n",
       "13. &lt;NA&gt;\n",
       "14. -0.0815838997790923\n",
       "15. -0.190741030200663\n",
       "16. -0.00963851367516801\n",
       "17. -0.0440795544567115\n",
       "18. -0.0705899799632517\n",
       "19. -0.0164084795462174\n",
       "20. -0.00934565314298216\n",
       "21. &lt;NA&gt;\n",
       "22. -0.10101238518197\n",
       "23. -0.0127290458094634\n",
       "24. -0.00963851367516801\n",
       "25. -0.00485030966758097\n",
       "26. -0.012732381675486\n",
       "27. -0.0469753153792132\n",
       "28. -0.0895506193058872\n",
       "29. -0.15772950433811\n",
       "30. -0.147173413323414\n",
       "31. -0.00194288334420349\n",
       "32. &lt;NA&gt;\n",
       "33. -0.0440795544567115\n",
       "34. -0.00485030966758097\n",
       "35. -0.0113024749954173\n",
       "36. -0.148385965326359\n",
       "37. -0.0673145673313379\n",
       "38. -0.268603312394062\n",
       "39. &lt;NA&gt;\n",
       "40. -0.0705899799632517\n",
       "41. -0.012732381675486\n",
       "42. -0.0049345251139908\n",
       "43. -0.104614629356897\n",
       "44. -0.0557113687775628\n",
       "45. -0.196439478931263\n",
       "46. &lt;NA&gt;\n",
       "47. -0.052354366630127\n",
       "48. -0.0437855497324057\n",
       "49. -0.0411980771125638\n",
       "50. -0.125120482809183\n",
       "51. -0.0491388679803743\n",
       "52. &lt;NA&gt;\n",
       "53. -0.0164084795462174\n",
       "54. -0.0469753153792132\n",
       "55. -0.0113024749954173\n",
       "56. -0.0049345251139908\n",
       "57. -0.0411980771125638\n",
       "58. -0.189095210091174\n",
       "59. -0.0274141354470692\n",
       "60. -0.149315417567929\n",
       "61. &lt;NA&gt;\n",
       "62. -0.04596584083956\n",
       "63. -0.0895506193058872\n",
       "64. -0.189095210091174\n",
       "65. -0.0275661227282363\n",
       "66. -0.195203596416401\n",
       "67. &lt;NA&gt;\n",
       "68. -0.0947689609331495\n",
       "69. -0.15772950433811\n",
       "70. -0.148385965326359\n",
       "71. -0.104614629356897\n",
       "72. -0.125120482809183\n",
       "73. -0.0275661227282363\n",
       "74. -0.0156082203814092\n",
       "75. -0.00431637631970306\n",
       "76. &lt;NA&gt;\n",
       "77. -0.107289838237167\n",
       "78. -0.147173413323414\n",
       "79. -0.0673145673313379\n",
       "80. -0.0557113687775628\n",
       "81. -0.0274141354470692\n",
       "82. -0.022838942447847\n",
       "83. -0.0126231527093596\n",
       "84. &lt;NA&gt;\n",
       "85. -0.224068419972035\n",
       "86. -0.141413982272465\n",
       "87. -0.00934565314298216\n",
       "88. -0.196439478931263\n",
       "89. -0.149315417567929\n",
       "90. -0.0156082203814092\n",
       "91. -0.022838942447847\n",
       "92. -0.526963779277577\n",
       "93. &lt;NA&gt;\n",
       "94. -0.00194288334420349\n",
       "95. -0.268603312394062\n",
       "96. -0.0491388679803743\n",
       "97. -0.195203596416401\n",
       "98. -0.00431637631970306\n",
       "99. -0.0126231527093596\n",
       "100. -0.526963779277577\n",
       "101. &lt;NA&gt;\n",
       "102. &lt;NA&gt;\n",
       "103. &lt;NA&gt;\n",
       "104. &lt;NA&gt;\n",
       "105. &lt;NA&gt;\n",
       "106. &lt;NA&gt;\n",
       "107. &lt;NA&gt;\n",
       "108. &lt;NA&gt;\n",
       "109. &lt;NA&gt;\n",
       "110. &lt;NA&gt;\n",
       "111. &lt;NA&gt;\n",
       "112. &lt;NA&gt;\n",
       "113. &lt;NA&gt;\n",
       "114. &lt;NA&gt;\n",
       "\n",
       "\n"
      ],
      "text/plain": [
       "  [1] -0.081583900 -0.101012385 -0.052354367 -0.045965841 -0.224068420\n",
       "  [6]           NA -0.190741030 -0.012729046 -0.043785550 -0.094768961\n",
       " [11] -0.107289838 -0.141413982           NA -0.081583900 -0.190741030\n",
       " [16] -0.009638514 -0.044079554 -0.070589980 -0.016408480 -0.009345653\n",
       " [21]           NA -0.101012385 -0.012729046 -0.009638514 -0.004850310\n",
       " [26] -0.012732382 -0.046975315 -0.089550619 -0.157729504 -0.147173413\n",
       " [31] -0.001942883           NA -0.044079554 -0.004850310 -0.011302475\n",
       " [36] -0.148385965 -0.067314567 -0.268603312           NA -0.070589980\n",
       " [41] -0.012732382 -0.004934525 -0.104614629 -0.055711369 -0.196439479\n",
       " [46]           NA -0.052354367 -0.043785550 -0.041198077 -0.125120483\n",
       " [51] -0.049138868           NA -0.016408480 -0.046975315 -0.011302475\n",
       " [56] -0.004934525 -0.041198077 -0.189095210 -0.027414135 -0.149315418\n",
       " [61]           NA -0.045965841 -0.089550619 -0.189095210 -0.027566123\n",
       " [66] -0.195203596           NA -0.094768961 -0.157729504 -0.148385965\n",
       " [71] -0.104614629 -0.125120483 -0.027566123 -0.015608220 -0.004316376\n",
       " [76]           NA -0.107289838 -0.147173413 -0.067314567 -0.055711369\n",
       " [81] -0.027414135 -0.022838942 -0.012623153           NA -0.224068420\n",
       " [86] -0.141413982 -0.009345653 -0.196439479 -0.149315418 -0.015608220\n",
       " [91] -0.022838942 -0.526963779           NA -0.001942883 -0.268603312\n",
       " [96] -0.049138868 -0.195203596 -0.004316376 -0.012623153 -0.526963779\n",
       "[101]           NA           NA           NA           NA           NA\n",
       "[106]           NA           NA           NA           NA           NA\n",
       "[111]           NA           NA           NA           NA"
      ]
     },
     "metadata": {},
     "output_type": "display_data"
    }
   ],
   "source": [
    "correlation_matrix <- cor(data_hw)\n",
    "negative_correlation <- correlation_matrix[correlation_matrix < 0]\n",
    "\n",
    "#Death_event and time\n",
    "cor(data_hw$DEATH_EVENT, data_hw$time)\n",
    "\n",
    "#Death_evvent and \n",
    "\n"
   ]
  },
  {
   "cell_type": "markdown",
   "id": "45ccd281-4c3a-437b-9fea-a8433d6145ea",
   "metadata": {},
   "source": [
    "**Ktoré atribúty majú medzi sebou najväčšiu kladnú koreláciu?** (uveďte prvú dvojicu)"
   ]
  },
  {
   "cell_type": "raw",
   "id": "d6304b62-d65f-412e-bc2c-f57219a910d9",
   "metadata": {},
   "source": [
    "# TODO"
   ]
  },
  {
   "cell_type": "markdown",
   "id": "4afda479-3c32-4956-b59f-c53c450a42ba",
   "metadata": {},
   "source": [
    "----\n",
    "\n",
    "Viac informácií o zlyhaní srdca: https://www.nhlbi.nih.gov/health/heart-failure"
   ]
  }
 ],
 "metadata": {
  "kernelspec": {
   "display_name": "R",
   "language": "R",
   "name": "ir"
  },
  "language_info": {
   "codemirror_mode": "r",
   "file_extension": ".r",
   "mimetype": "text/x-r-source",
   "name": "R",
   "pygments_lexer": "r",
   "version": "4.3.3"
  }
 },
 "nbformat": 4,
 "nbformat_minor": 5
}
