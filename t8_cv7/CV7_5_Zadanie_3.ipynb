{
 "cells": [
  {
   "cell_type": "markdown",
   "id": "6854f873-5d15-4d3c-a71b-8858b7de6d12",
   "metadata": {},
   "source": [
    "## Zadanie 3 (5b)\n",
    "\n",
    "V tomto zadaní budete pracovať s aplikáciou v adresári `machine_learning` a datasetom: **Breast Cancer Wisconsin (Diagnostic)**\n",
    "\n",
    "Dataset je dostupný aj online samostatne, alebo v knižnici scikit-learn: \n",
    "https://archive.ics.uci.edu/dataset/17/breast+cancer+wisconsin+diagnostic\n",
    "https://scikit-learn.org/stable/modules/generated/sklearn.datasets.load_breast_cancer.html\n",
    "\n",
    "Dataset Breast Cancer Wisconsin (Diagnostic) obsahuje údaje získané z digitalizovaných obrazov tenkých ihlových aspirátov (FNA) hmoty prsníka, ktoré opisujú charakteristiky jadier buniek v nich. Zahŕňa 569 prípadov s 30 vlastnosťami, s cieľom na klasifikáciu benigných alebo maligných prípadov rakoviny prsníka na základe rôznych vlastností jadier buniek. Viac informácií nájdete na UCI Machine Learning Repository. [1]"
   ]
  },
  {
   "cell_type": "markdown",
   "id": "8af7058b-20cf-4ece-8c7f-e2f38c33e94f",
   "metadata": {},
   "source": [
    "### Úloha 1 (1b)"
   ]
  },
  {
   "cell_type": "markdown",
   "id": "8ceeaa27-3e3e-4b13-9251-2a375fc948d1",
   "metadata": {},
   "source": [
    "Pridajte do kódu ďalší model strojového učenia (ľubovoľný), a taktiež definujte parametre a ich hodnoty pre Grid Search.\n",
    "\n",
    "**Uveďte aký ML model a hodnoty jeho parametrov ste použili:**"
   ]
  },
  {
   "cell_type": "markdown",
   "id": "912438a0-3cb0-4221-a12a-f33c6304ecdb",
   "metadata": {},
   "source": [
    "#TODO - Popis"
   ]
  },
  {
   "cell_type": "markdown",
   "id": "96a14512-f20f-499c-8398-d7cd3e6d1289",
   "metadata": {},
   "source": [
    "### Úloha 2 (2b)\n",
    "\n",
    "Implementujte ďalšiu (ľubovoľnú) metriku pre evaluáciu modelov. Nezabudnite na to, aby sa implementovaná metrika ukladala do logov v súbore `model_accuracies.csv` a tiež ju pridajte do grafov (do grafov pre funkciu hustoty rozdelenia a tiež pre ňu vytvorte nový graf ktorý bude zobrazovať jej priebeh počas replikácií - tak ako pre presnosť (accuracy)).  \n",
    "\n",
    "**Uveďte akú metriku ste doplnili:**"
   ]
  },
  {
   "cell_type": "markdown",
   "id": "46e0dfd7-facd-4fb5-b5e0-521a3ff55398",
   "metadata": {},
   "source": [
    "#TODO - Metrika"
   ]
  },
  {
   "cell_type": "markdown",
   "id": "3781c2a9-73a1-4046-9ecb-70086fb28fc2",
   "metadata": {},
   "source": [
    "### Úloha 3 (1b)\n",
    "\n",
    "Do implementácie pridajte ukladanie všetkých grafov, ktoré sa vytvárajú pri behu skriptov v adresári `machine_learning`."
   ]
  },
  {
   "cell_type": "markdown",
   "id": "ba365496-6912-408d-bcfc-a7f2993c148e",
   "metadata": {},
   "source": [
    "### Úloha 4 (1b)\n",
    "\n",
    "Vykonajte beh aplikácie s Vašou implementáciou. Po skončení behu zanalyzujte vygenerované grafy a pár vetami popíšte ich interpretáciu. (Napr. v čom je ktorý ML model lepší, a pod.)"
   ]
  },
  {
   "cell_type": "markdown",
   "id": "420e9e41-5d8e-482c-8f9f-fdabf27f9f78",
   "metadata": {},
   "source": [
    "#TODO - Interpretácia"
   ]
  },
  {
   "cell_type": "markdown",
   "id": "4afda479-3c32-4956-b59f-c53c450a42ba",
   "metadata": {},
   "source": [
    "**Odovzdávanie riešenia:** Ako súčasť riešenia odovzdajte tento notebook s odpoveďami, skripty s Vašou implementáciou, vygenerované logy a grafy (v priečinkoch `machine_learning` a `outputs`). Riešenie môžete nahrať na Git, alebo odovzdať formou zip. \n",
    "\n",
    "----\n",
    "\n",
    "#### Referencie\n",
    "\n",
    "[1] Street, W. N., Wolberg, W. H., & Mangasarian, O. L. (1993). Nuclear feature extraction for breast tumor diagnosis. Electronic Imaging, 1905, 861–870. https://doi.org/10.1117/12.148698"
   ]
  }
 ],
 "metadata": {
  "kernelspec": {
   "display_name": "R",
   "language": "R",
   "name": "ir"
  },
  "language_info": {
   "codemirror_mode": "r",
   "file_extension": ".r",
   "mimetype": "text/x-r-source",
   "name": "R",
   "pygments_lexer": "r",
   "version": "4.3.2"
  }
 },
 "nbformat": 4,
 "nbformat_minor": 5
}
